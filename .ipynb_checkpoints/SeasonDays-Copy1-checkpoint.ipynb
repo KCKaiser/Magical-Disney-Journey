{
 "cells": [
  {
   "cell_type": "code",
   "execution_count": 1,
   "metadata": {},
   "outputs": [],
   "source": [
    "import glob\n",
    "import pandas as pd\n",
    "import numpy as np\n",
    "import datetime as dt"
   ]
  },
  {
   "cell_type": "code",
   "execution_count": 2,
   "metadata": {},
   "outputs": [
    {
     "data": {
      "text/plain": [
       "['Resources\\\\expedition_everest.csv',\n",
       " 'Resources\\\\rock_n_rollercoaster.csv',\n",
       " 'Resources\\\\soarin.csv',\n",
       " 'Resources\\\\splash_mountain.csv']"
      ]
     },
     "execution_count": 2,
     "metadata": {},
     "output_type": "execute_result"
    }
   ],
   "source": [
    "filelist = glob.glob('Resources/*.csv')\n",
    "filelist"
   ]
  },
  {
   "cell_type": "code",
   "execution_count": 3,
   "metadata": {},
   "outputs": [],
   "source": [
    "foof = {}\n",
    "\n",
    "for filename in filelist:\n",
    "    foof[filename[10:-4]] = pd.read_csv(filename)"
   ]
  },
  {
   "cell_type": "code",
   "execution_count": 4,
   "metadata": {},
   "outputs": [
    {
     "name": "stdout",
     "output_type": "stream",
     "text": [
      "['CHRISTMAS PEAK', 'CHRISTMAS', 'WINTER', 'PRESIDENTS WEEK', 'SPRING', 'EASTER', 'MEMORIAL DAY', 'SUMMER BREAK', 'JULY 4TH', 'SEPTEMBER LOW', 'FALL', 'COLUMBUS DAY', 'HALLOWEEN', 'JERSEY WEEK', 'THANKSGIVING', 'MARTIN LUTHER KING JUNIOR DAY', 'MARDI GRAS']\n",
      "17\n"
     ]
    }
   ],
   "source": [
    "seasons = []\n",
    "for season in list(foof[\"splash_mountain\"][\"SEASON\"].values):\n",
    "    if season not in seasons:\n",
    "        seasons.append(season)\n",
    "print(seasons)\n",
    "print(len(seasons))"
   ]
  },
  {
   "cell_type": "code",
   "execution_count": 5,
   "metadata": {},
   "outputs": [
    {
     "name": "stdout",
     "output_type": "stream",
     "text": [
      "CHRISTMAS PEAK\n",
      "CHRISTMAS\n",
      "WINTER\n",
      "PRESIDENTS WEEK\n",
      "SPRING\n",
      "EASTER\n",
      "MEMORIAL DAY\n",
      "SUMMER BREAK\n",
      "JULY 4TH\n",
      "SEPTEMBER LOW\n",
      "FALL\n",
      "COLUMBUS DAY\n",
      "HALLOWEEN\n",
      "JERSEY WEEK\n",
      "THANKSGIVING\n",
      "MARTIN LUTHER KING JUNIOR DAY\n",
      "MARDI GRAS\n",
      "CHRISTMAS PEAK\n",
      "CHRISTMAS\n",
      "WINTER\n",
      "PRESIDENTS WEEK\n",
      "SPRING\n",
      "EASTER\n",
      "MEMORIAL DAY\n",
      "SUMMER BREAK\n",
      "JULY 4TH\n",
      "SEPTEMBER LOW\n",
      "FALL\n",
      "COLUMBUS DAY\n",
      "HALLOWEEN\n",
      "JERSEY WEEK\n",
      "THANKSGIVING\n",
      "MARTIN LUTHER KING JUNIOR DAY\n",
      "MARDI GRAS\n",
      "CHRISTMAS PEAK\n",
      "CHRISTMAS\n",
      "WINTER\n",
      "PRESIDENTS WEEK\n",
      "SPRING\n",
      "EASTER\n",
      "MEMORIAL DAY\n",
      "SUMMER BREAK\n",
      "JULY 4TH\n",
      "SEPTEMBER LOW\n",
      "FALL\n",
      "COLUMBUS DAY\n",
      "HALLOWEEN\n",
      "JERSEY WEEK\n",
      "THANKSGIVING\n",
      "MARTIN LUTHER KING JUNIOR DAY\n",
      "MARDI GRAS\n",
      "CHRISTMAS PEAK\n",
      "CHRISTMAS\n",
      "WINTER\n",
      "PRESIDENTS WEEK\n",
      "SPRING\n",
      "EASTER\n",
      "MEMORIAL DAY\n",
      "SUMMER BREAK\n",
      "JULY 4TH\n",
      "SEPTEMBER LOW\n",
      "FALL\n",
      "COLUMBUS DAY\n",
      "HALLOWEEN\n",
      "JERSEY WEEK\n",
      "THANKSGIVING\n",
      "MARTIN LUTHER KING JUNIOR DAY\n",
      "MARDI GRAS\n"
     ]
    }
   ],
   "source": [
    "years = [2015, 2016, 2017, 2018]\n",
    "season_days = {}\n",
    "for s in seasons:\n",
    "    season_days[s] = list()\n",
    "for year in years:\n",
    "    for s in seasons:\n",
    "\n",
    "        subset = foof[\"splash_mountain\"].loc[(foof[\"splash_mountain\"][\"SEASON\"] == s) & (foof[\"splash_mountain\"][\"YEAR\"] == year)][[\"DAYOFYEAR\", \"YEAR\"]]\n",
    "        print(s)\n",
    "\n",
    "        days = list(subset[\"DAYOFYEAR\"])\n",
    "        for day in days:\n",
    "            date = dt.datetime(year, 1, 1) + dt.timedelta(day - 1)\n",
    "            mon = date.month\n",
    "            da = date.day\n",
    "            monda = str(mon) + \"-\" + str(da)\n",
    "            season_days[s].append(monda)"
   ]
  },
  {
   "cell_type": "code",
   "execution_count": 6,
   "metadata": {},
   "outputs": [
    {
     "name": "stdout",
     "output_type": "stream",
     "text": [
      "{'CHRISTMAS PEAK': ['12-29', '12-30', '12-27', '12-26', '12-28', '12-31'], 'CHRISTMAS': ['12-24', '1-3', '12-19', '12-21', '1-2', '1-1', '12-18', '1-6', '12-23', '12-20', '1-7', '1-5', '12-25', '1-4', '1-8', '12-22', '12-17'], 'WINTER': ['12-3', '12-16', '1-9', '2-1', '2-4', '2-28', '2-8', '12-4', '2-24', '12-13', '2-5', '1-22', '1-30', '1-27', '1-23', '1-25', '12-14', '1-26', '2-13', '1-21', '12-2', '2-10', '2-11', '2-14', '12-6', '12-10', '12-15', '2-7', '2-27', '2-21', '12-5', '2-3', '1-28', '2-12', '2-23', '12-1', '11-30', '2-6', '2-9', '1-10', '2-22', '12-9', '12-7', '2-2', '2-26', '1-31', '12-12', '12-11', '1-29', '12-8', '2-25', '1-24'], 'PRESIDENTS WEEK': ['2-18', '2-13', '2-19', '2-21', '2-11', '2-10', '2-17', '2-15', '2-12', '2-14', '2-20', '2-23', '2-16', '2-24', '2-22', '2-25'], 'SPRING': ['6-20', '6-23', '5-27', '3-5', '6-3', '5-1', '5-22', '5-21', '4-15', '5-6', '6-5', '3-25', '4-1', '6-9', '3-30', '2-29', '5-30', '4-11', '6-16', '4-3', '3-2', '5-12', '3-17', '4-30', '4-28', '5-15', '6-12', '6-13', '5-17', '5-24', '6-28', '4-4', '3-20', '5-18', '6-1', '5-13', '3-4', '4-25', '6-29', '4-24', '3-31', '3-6', '5-20', '5-26', '4-7', '6-10', '4-10', '3-10', '4-12', '5-3', '3-7', '3-9', '3-21', '4-23', '3-1', '5-7', '3-13', '3-16', '4-20', '6-27', '3-15', '6-22', '6-19', '5-10', '3-11', '6-11', '4-17', '6-2', '4-8', '6-14', '4-5', '4-6', '5-19', '5-2', '5-16', '6-7', '5-25', '6-18', '5-8', '4-27', '5-9', '3-18', '4-29', '5-5', '2-28', '3-22', '3-23', '5-28', '4-13', '4-21', '3-24', '4-9', '5-31', '4-22', '6-25', '5-29', '6-24', '5-14', '6-26', '3-14', '3-19', '3-26', '6-4', '6-17', '5-4', '4-14', '5-11', '6-15', '3-3', '6-6', '3-28', '4-26', '6-8', '6-21', '4-19', '3-8', '4-16', '5-23', '4-18', '3-12'], 'EASTER': ['4-4', '3-18', '3-20', '3-22', '3-23', '4-24', '3-31', '4-13', '4-17', '4-21', '3-24', '4-9', '3-25', '4-1', '3-30', '4-22', '4-8', '4-7', '4-5', '4-11', '4-6', '4-10', '4-12', '3-19', '3-26', '3-21', '4-3', '3-29', '4-23', '4-14', '4-20', '3-17', '3-28', '3-27', '4-2', '4-19', '4-16', '4-18'], 'MEMORIAL DAY': ['5-29', '5-25', '5-27', '5-24', '5-23', '5-26', '5-30', '5-22', '5-28'], 'SUMMER BREAK': ['7-30', '7-20', '8-3', '8-17', '8-1', '7-16', '8-4', '8-20', '7-25', '7-13', '7-31', '6-30', '7-7', '7-15', '8-7', '8-11', '8-19', '7-11', '8-15', '8-13', '7-8', '7-6', '8-12', '8-9', '7-19', '8-18', '7-22', '7-24', '8-2', '8-6', '7-10', '8-8', '8-14', '8-16', '8-10', '7-17', '7-23', '7-26', '7-18', '7-27', '7-12', '8-5', '7-14', '7-29', '8-21', '7-9', '7-21', '7-28', '8-22', '8-23'], 'JULY 4TH': ['7-1', '7-3', '7-5', '7-2', '7-4'], 'SEPTEMBER LOW': ['8-26', '9-12', '8-28', '9-6', '9-1', '9-18', '9-8', '8-22', '9-10', '8-24', '9-16', '9-5', '9-11', '9-13', '9-14', '8-25', '9-20', '9-3', '9-19', '9-17', '9-15', '9-9', '9-7', '8-21', '8-31', '9-2', '8-29', '8-30', '9-4', '8-27', '8-23'], 'FALL': ['9-28', '11-11', '11-3', '10-7', '10-1', '9-24', '9-22', '10-3', '10-18', '10-23', '10-13', '10-16', '9-27', '10-21', '11-17', '11-18', '11-16', '11-29', '9-25', '10-24', '10-15', '10-6', '9-29', '10-25', '10-5', '11-15', '10-19', '9-26', '10-26', '10-20', '10-11', '11-13', '10-17', '9-20', '9-23', '11-10', '11-9', '9-19', '10-14', '11-14', '9-21', '11-28', '10-8', '11-12', '10-4', '9-30', '10-22', '10-2', '10-12'], 'COLUMBUS DAY': ['10-9', '10-10', '10-8', '10-11', '10-7', '10-12'], 'HALLOWEEN': ['10-29', '10-28', '10-27'], 'JERSEY WEEK': ['11-9', '11-5', '11-1', '11-3', '11-12', '11-7', '11-8', '10-31', '10-30', '11-11', '11-10', '11-6', '11-4'], 'THANKSGIVING': ['11-27', '11-21', '11-22', '11-24', '11-28', '11-26', '11-30', '11-17', '11-19', '11-20', '11-18', '11-16', '11-29', '11-25', '11-23'], 'MARTIN LUTHER KING JUNIOR DAY': ['1-17', '1-12', '1-16', '1-14', '1-19', '1-13', '1-15', '1-18', '1-11'], 'MARDI GRAS': ['2-13', '2-26', '2-11', '2-10', '2-12', '2-9', '2-6']}\n"
     ]
    }
   ],
   "source": [
    "for s in season_days:\n",
    "    season_days[s] = list(set(season_days[s]))\n",
    "print(season_days)"
   ]
  },
  {
   "cell_type": "code",
   "execution_count": null,
   "metadata": {},
   "outputs": [],
   "source": []
  },
  {
   "cell_type": "code",
   "execution_count": null,
   "metadata": {},
   "outputs": [],
   "source": []
  },
  {
   "cell_type": "code",
   "execution_count": null,
   "metadata": {},
   "outputs": [],
   "source": []
  },
  {
   "cell_type": "code",
   "execution_count": null,
   "metadata": {},
   "outputs": [],
   "source": []
  }
 ],
 "metadata": {
  "kernelspec": {
   "display_name": "Python 3",
   "language": "python",
   "name": "python3"
  },
  "language_info": {
   "codemirror_mode": {
    "name": "ipython",
    "version": 3
   },
   "file_extension": ".py",
   "mimetype": "text/x-python",
   "name": "python",
   "nbconvert_exporter": "python",
   "pygments_lexer": "ipython3",
   "version": "3.6.5"
  }
 },
 "nbformat": 4,
 "nbformat_minor": 2
}
