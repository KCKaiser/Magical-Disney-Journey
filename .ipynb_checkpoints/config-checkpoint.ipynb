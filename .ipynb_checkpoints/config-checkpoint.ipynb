{
 "cells": [
  {
   "cell_type": "code",
   "execution_count": 1,
   "metadata": {},
   "outputs": [],
   "source": [
    "consumer_key = \"4D5RjkDrY7R4iPBN0QXpfxper\"\n",
    "consumer_secret = \"tyEzhLKXZufDBB6sfdGHDHibmkaK6jgWdscf169w3tEidoyTFW\"\n",
    "access_token = \"35690169-CGXs4Muh8My16evFc4rHes4sE6zITIwu0ADuEtIVQ\"\n",
    "access_token_secret = \"K0iRUtWIK2wYy0GEVwGI1AnLOFmoXCKJav1XX4I1VkZF9\""
   ]
  },
  {
   "cell_type": "code",
   "execution_count": null,
   "metadata": {},
   "outputs": [],
   "source": []
  }
 ],
 "metadata": {
  "kernelspec": {
   "display_name": "Python 3",
   "language": "python",
   "name": "python3"
  },
  "language_info": {
   "codemirror_mode": {
    "name": "ipython",
    "version": 3
   },
   "file_extension": ".py",
   "mimetype": "text/x-python",
   "name": "python",
   "nbconvert_exporter": "python",
   "pygments_lexer": "ipython3",
   "version": "3.6.5"
  }
 },
 "nbformat": 4,
 "nbformat_minor": 2
}
